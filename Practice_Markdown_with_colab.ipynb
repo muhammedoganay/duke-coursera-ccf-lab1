{
  "nbformat": 4,
  "nbformat_minor": 0,
  "metadata": {
    "colab": {
      "name": "Practice_Markdown_with_colab.ipynb",
      "provenance": [],
      "authorship_tag": "ABX9TyNxbDIWhO/HZFDzaS/qYoDG",
      "include_colab_link": true
    },
    "kernelspec": {
      "name": "python3",
      "display_name": "Python 3"
    },
    "language_info": {
      "name": "python"
    }
  },
  "cells": [
    {
      "cell_type": "markdown",
      "metadata": {
        "id": "view-in-github",
        "colab_type": "text"
      },
      "source": [
        "<a href=\"https://colab.research.google.com/github/muhammedoganay/duke-coursera-ccf-lab1/blob/main/Practice_Markdown_with_colab.ipynb\" target=\"_parent\"><img src=\"https://colab.research.google.com/assets/colab-badge.svg\" alt=\"Open In Colab\"/></a>"
      ]
    },
    {
      "cell_type": "markdown",
      "source": [
        "Practice Markdown\n",
        "This notebook lets you experiment with producing repeatable technical documentation. Use this notebook to do the following actions:\n",
        "\n",
        "Create a code cell and print a Python Hello World statement: print(\"hello world\")\n",
        "Create a Markdown Cell and add a Title using # and then a statement using plain text. You can looks at the source code for this cell to get an idea of how to use Markdown.\n",
        "Take some ideas from the Master Markdown Github Guide and implement them here.\n",
        "Finally, download this notebook as a .ipynb file and check into a Github Project"
      ],
      "metadata": {
        "id": "5wAvlyrudl_O"
      }
    },
    {
      "cell_type": "markdown",
      "source": [
        "# my work"
      ],
      "metadata": {
        "id": "2B0Eq0Ewd0RD"
      }
    },
    {
      "cell_type": "code",
      "source": [
        "print(\"hello world\")"
      ],
      "metadata": {
        "colab": {
          "base_uri": "https://localhost:8080/"
        },
        "id": "MzMmF84Bdq5o",
        "outputId": "4e81f030-ea4e-45b1-8f4b-ab1a84e0f0de"
      },
      "execution_count": 1,
      "outputs": [
        {
          "output_type": "stream",
          "name": "stdout",
          "text": [
            "hello world\n"
          ]
        }
      ]
    },
    {
      "cell_type": "markdown",
      "source": [
        ""
      ],
      "metadata": {
        "id": "nFa-5ppyd5wd"
      }
    }
  ]
}